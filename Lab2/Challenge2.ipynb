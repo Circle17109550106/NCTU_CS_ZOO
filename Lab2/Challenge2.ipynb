{
 "cells": [
  {
   "cell_type": "markdown",
   "metadata": {},
   "source": [
    "# Challenge 2: 虛擬自駕車—— 控制與迷宮 (資料結構與物件導向程式設計)\n",
    "\n",
    "2020.10.16\n",
    "\n",
    "## Objective\n",
    "\n",
    "- 活用 python 資料結構"
   ]
  },
  {
   "cell_type": "markdown",
   "metadata": {},
   "source": [
    "## Requirement\n",
    "\n",
    "- 承 HW2，改變地圖呈現方式，並在 class 加入能讓車子移動的 function\n",
    "    - 地圖呈現方式：將一張張地圖垂直排列，地圖能經過傳送點到下一個地圖\n",
    "        - Input: 一個 `.txt` 檔，檔案裡的資訊格式如下 (見 `maze3D_info.txt`)\n",
    "            - Line 1 (可走地圖範圍和地圖數量): `{map width} {map heigh} {number of maps}`\n",
    "            - Line 2 (地圖 1 障礙物的位置): `{x1} {y1} & {x2} {y2} & {x3} {y3} & ...`\n",
    "            - Line 3 (地圖 2 障礙物的位置): `{x1} {y1} & {x2} {y2} & {x3} {y3} & ...`\n",
    "            - ...\n",
    "            - 有 n 張地圖就有 2*n+1 行資訊\n",
    "            ```\n",
    "            Example\n",
    "            6 5 3\n",
    "            1 1 & 4 2 & 0 3 & 2 4\n",
    "            2 1 & 0 2 & 5 3\n",
    "            1 0 & 3 1 & 2 2 & 4 4\n",
    "            ```\n",
    "        - Output: 每張對應大小的地圖、車子位置、傳送點位置和障礙物位置\n",
    "            - `*` 代表車子目前位置：設為 `(0, 0, 0)`\n",
    "            - `x` 代表可傳送到下一個地圖的傳送點，皆在地圖右下角 `(map_w-1, map_h-1, i)`\n",
    "            - `0` 代表可走的路\n",
    "            - 用 `1` 來表示障礙物不能前進 \n",
    "            - 請在地圖四邊也圍上障礙物 `1`\n",
    "![image](https://raw.githubusercontent.com/yu2guang/NCTU-CS/master/pdf/Duckie/others/Lab2_maze.png)\n",
    "    - 車子移動呈現方式：輸入指令，引導車子走到終點\n",
    "        - 車子位置格式: (`目前地圖座標 x`, `目前地圖座標 y`, `目前地圖編號`)\n",
    "        - 設定第一張地圖左上 `(0, 0, 0)` 為起點，而走到第 n 張地圖右下 `(map_w-1, map_h-1, n-1)` 即為終點 (程式亦終止)\n",
    "        - 輸入 `u`, `d`, `l`, `r` 來上下左右，若碰到障礙物 `1` 則不能前進\n",
    "        - 輸入 `x` 並在傳送點 `x` 上即可到下一張地圖 i 的左上角起點 `(0, 0, i)`\n",
    "        - 每輸入一次指令就印出車子目前位置\n",
    "        ![image](https://raw.githubusercontent.com/yu2guang/NCTU-CS/master/pdf/Duckie/others/Lab2_maze.gif)"
   ]
  },
  {
   "cell_type": "markdown",
   "metadata": {},
   "source": [
    "## Notice\n",
    "\n",
    "- 可用任何環境 demo\n",
    "- 關於 demo 測資 \n",
    "    - demo 時會更動測資，但 `.txt` 檔格式不變\n",
    "    - 不會出現不合理測資 (e.g. 障礙物行數和地圖個數不符合)\n",
    "- Reward\n",
    "    - demo before 8:30 pm: 金牌\n",
    "    - demo before 9:30 pm: 銀牌\n",
    "    - demo next week at 6:00 ~ 6:30 pm: 銅牌"
   ]
  }
 ],
 "metadata": {
  "kernelspec": {
   "display_name": "Python 3",
   "language": "python",
   "name": "python3"
  },
  "language_info": {
   "codemirror_mode": {
    "name": "ipython",
    "version": 3
   },
   "file_extension": ".py",
   "mimetype": "text/x-python",
   "name": "python",
   "nbconvert_exporter": "python",
   "pygments_lexer": "ipython3",
   "version": "3.7.6"
  }
 },
 "nbformat": 4,
 "nbformat_minor": 4
}
