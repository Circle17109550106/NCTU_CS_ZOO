{
 "cells": [
  {
   "cell_type": "markdown",
   "metadata": {},
   "source": [
    "# HW 2: 虛擬自駕車——控制與迷宮 (資料結構與物件導向程式設計)\n",
    "\n",
    "2020.09.25\n",
    "\n",
    "## Tutorial\n",
    "\n",
    "- Data Structure Basics (16:34)\n",
    "    - https://www.youtube.com/watch?v=bum_19loj9A\n",
    "\n",
    "- Data Structures in Python (19:00)\n",
    "    - https://www.youtube.com/watch?v=R-HLU9Fl5ug\n",
    "\n",
    "- Object Oriented Programming Basics (7:33)\n",
    "    - https://www.youtube.com/watch?v=pTB0EiLXUC8\n",
    "\n",
    "- Object Oriented Programming in Python (42:22)\n",
    "    - https://www.youtube.com/watch?v=ZDa-Z5JzLYM\n",
    "    - https://www.youtube.com/watch?v=BJ-VvGyQxho\n",
    "    - https://www.youtube.com/watch?v=rq8cL2XMM5M\n",
    "\n",
    "## Objective\n",
    "\n",
    "- 認識 python 資料結構: list, class, ...\n",
    "- python practice: time, reprint, ...\n"
   ]
  },
  {
   "cell_type": "markdown",
   "metadata": {},
   "source": [
    "## Requirement\n",
    "\n",
    "- 承 Challenge 1，設計產生地圖的 class，並能循環印出多張地圖\n",
    "    - Input: 一個 `.txt` 檔，檔案裡的資訊格式如下 (見 `maze_info.txt`)\n",
    "        - Line 1 (可走地圖範圍和地圖數量 n): `{map width} {map heigh} {number of maps}`\n",
    "        - Line 2~n (每張圖障礙物的位置): `{x1} {y1} & {x2} {y2} & {x3} {y3} & ...` \n",
    "            - 以小寫字母 `&` 做為每個障礙物座標間隔\n",
    "        ```\n",
    "        Example\n",
    "        6 5 3\n",
    "        1 1 & 4 2 & 0 3 & 2 4\n",
    "        2 1 & 0 2 & 5 3\n",
    "        1 0 & 3 1 & 2 2 & 4 4\n",
    "        ```\n",
    "    - Output: 無限循環每張對應大小的地圖、車子位置和障礙物位置，並呈現動態效果\n",
    "        - `*` 代表車子目前位置：設為 `(0, 0)`\n",
    "        - `0` 代表可走的路\n",
    "        - 用 `1` 來表示障礙物不能前進 \n",
    "        - 請在地圖四邊也圍上障礙物 `1`\n",
    "![image](https://raw.githubusercontent.com/yu2guang/NCTU-CS/master/pdf/Duckie/others/Lab2_map.gif)"
   ]
  },
  {
   "cell_type": "markdown",
   "metadata": {},
   "source": [
    "## Notice\n",
    "\n",
    "- 可用任何環境 demo\n",
    "- 關於 demo 測資 \n",
    "    - demo 時會更動測資，圖樣可能也會更改，但 `.txt` 檔格式不變\n",
    "    - 不會出現不合理測資 (e.g. 障礙物行數和地圖個數不符合)\n",
    "- deadline: 2020.10.16 before class"
   ]
  },
  {
   "cell_type": "markdown",
   "metadata": {},
   "source": [
    "## Reference\n",
    "\n",
    "### Class template\n",
    "\n",
    "可參考 `Lab2_hw_class.py`"
   ]
  },
  {
   "cell_type": "code",
   "execution_count": null,
   "metadata": {},
   "outputs": [],
   "source": [
    "class maze():\n",
    "    def __init__(self, size):\n",
    "        self.size = size\n",
    "        self.cur_pos = [0, 0]\n",
    "        self.cur_maze = []\n",
    "\n",
    "    def gen_map(self, obstacles):\n",
    "        # TODO: generate each map & saved in self.cur_maze\n",
    "\n",
    "    def show_maze(self):\n",
    "        # TODO: show all the maps"
   ]
  },
  {
   "cell_type": "markdown",
   "metadata": {},
   "source": [
    "### Python library\n",
    "\n",
    "- `reprint` (可用來刷新輸出，使地圖呈現動態效果，請在有 termainl 的環境下使用)\n",
    "    - [reprint github](https://github.com/Yinzo/reprint)\n",
    "    - [python - 如何動態刷新多行輸出](https://www.coder.work/article/357043)\n",
    "- `time.sleep(t)` (可用來減緩地圖刷新)\n",
    "    - [Python time sleep()方法](https://www.runoob.com/python/att-time-sleep.html)"
   ]
  }
 ],
 "metadata": {
  "kernelspec": {
   "display_name": "Python 3",
   "language": "python",
   "name": "python3"
  },
  "language_info": {
   "codemirror_mode": {
    "name": "ipython",
    "version": 3
   },
   "file_extension": ".py",
   "mimetype": "text/x-python",
   "name": "python",
   "nbconvert_exporter": "python",
   "pygments_lexer": "ipython3",
   "version": "3.7.6"
  }
 },
 "nbformat": 4,
 "nbformat_minor": 4
}
