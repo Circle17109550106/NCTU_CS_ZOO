{
 "cells": [
  {
   "cell_type": "markdown",
   "metadata": {
    "slideshow": {
     "slide_type": "slide"
    }
   },
   "source": [
    "# HW 7.5: 自駕車間的溝通 (網路工程) 實作步驟補充\n",
    "\n",
    "2020.11.19"
   ]
  },
  {
   "cell_type": "markdown",
   "metadata": {
    "slideshow": {
     "slide_type": "slide"
    }
   },
   "source": [
    "## 前言\n",
    "\n",
    "該實作步驟是其中一種方法去完成 `HW7`  \n",
    "並不是沒有照著做就會做不出來  \n",
    "所以已經做到一半也沒有必要重來，只需要從中汲取需要的步驟"
   ]
  },
  {
   "cell_type": "markdown",
   "metadata": {
    "slideshow": {
     "slide_type": "slide"
    }
   },
   "source": [
    "## Requirement\n",
    "\n",
    "利用 `socket` 使用 `TCP` 與 `UDP` 協定提供其他聯網裝置與小鴨車溝通，以控制小鴨車馬達與車燈\n",
    "\n",
    "- 跑 `TCP` 與 `UDP` server 在小鴨車上\n",
    "- 跑 `app.remote_joystick` 在自己電腦上去控制小鴨車\n",
    "\n",
    "![](https://imgur.com/sOVVuI1.png)"
   ]
  },
  {
   "cell_type": "markdown",
   "metadata": {
    "slideshow": {
     "slide_type": "slide"
    }
   },
   "source": [
    "## Step1: 先在自己電腦，開發 `TCP` server 程式碼\n",
    "\n",
    "> 如果想直接在小鴨車開發，也是可以的\n",
    "\n",
    "### 目標\n",
    "\n",
    "可以將 `TCP` server 跑起來\n",
    "\n",
    "### 怎麼做\n",
    "\n",
    "準備一支程式碼為 `TCP` server，另一支程式碼為 `UDP` server\n",
    "也就是總共有兩個 `Python` 程式碼檔案\n",
    "如已經打算整合在一起，也是可以的\n",
    "\n",
    "**這邊先不考慮去引用小鴨車控制函式庫 `car_control.py` 與 `light_control.py`**\n",
    "\n",
    "程式碼邏輯為:\n",
    "\n",
    "1. 開啟 `socket`\n",
    "2. 使用 `bind` 選擇 `host` 與 `port`\n",
    "3. 使用 `listen` 開始接受 client 連入\n",
    "4. 用 `accept` 取得與 client 成對的 `socket`\n",
    "5. 使用 `recv` 取得 client 傳送的資料\n",
    "6. 先假裝有控制小鴨車，但其實沒有\n",
    "7. 用 `send` 回覆 client 已處理資料\n",
    "8. 回到第 5 步\n",
    "\n",
    "### 注意事項\n",
    "\n",
    "- 其中使用 `bind` 的時候\n",
    "  - 將 `host` 改用 `0.0.0.0`，如使用 `localhost` 只能接受同主機的資料\n",
    "  - 以及將 `port` 改成符合題目描述\n",
    "- 注意 `accept` 會等到有 client 連上才回傳與 client 成對的 `socket`"
   ]
  },
  {
   "cell_type": "markdown",
   "metadata": {
    "slideshow": {
     "slide_type": "slide"
    }
   },
   "source": [
    "## Step2: 使用助教提供的 `remote_joystick.py` 測試 Step1 結果\n",
    "\n",
    "### 目標\n",
    "\n",
    "Step1 的 `TCP` server 可以收到 `remote_joystick.py` 傳出去的資料\n",
    "\n",
    "### 怎麼做\n",
    "\n",
    "選 **其中一種方法** 將程式碼放到自己電腦上\n",
    "\n",
    "A. 使用 `git clone -b Lab7 https://github.com/GrassLab/NCTU_CS_ZOO.git Lab7`，適合自己電腦上有 `git` 指令  \n",
    "B. 在 [`GrassLab/NCTU_CS_ZOO/Lab7`](https://github.com/GrassLab/NCTU_CS_ZOO/tree/Lab7) (https://github.com/GrassLab/NCTU_CS_ZOO/tree/Lab7) 網頁上下載 `ZIP` 壓縮檔，適合自己電腦沒有 `git` 指令\n",
    "\n",
    "打開終端機，將當前目錄切換到下載下來的程式碼中的 `duckiebot_cs_zoo` 目錄下\n",
    "輸入指令\n",
    "\n",
    "```bash\n",
    "$ python -m app.remote_joystick\n",
    "Usage: ${程式碼所在目錄}/duckiebot_cs_zoo/app/remote_joystick.py host port\n",
    "```\n",
    "\n",
    "這時會看到輸出說用法需要給 `host` 與 `port` 是正常的，因為剛剛的指令的確沒有給  \n",
    "根據 Step1 所執行程式的機器所在的 `IP` 給予 `host`\n",
    "\n",
    "如果是跑在自己電腦上，會是\n",
    "\n",
    "```bash\n",
    "$ python -m app.remote_joystick ${你自己電腦的 IP} 54760\n",
    "```\n",
    "\n",
    "> 如果是跑在小鴨車上，會是\n",
    "> \n",
    "> ```bash\n",
    "> $ python -m app.remote_joystick duckie-${你的學號}.local 54760\n",
    "> ```\n",
    "\n",
    "如果 `remote_joystick` 運作沒有問題，如下:\n",
    "\n",
    "```bash\n",
    "connect to ${你自己電腦的 IP}:54760\n",
    "pressed w, a, s, d and space as joystick when focus on Window\n",
    "```\n",
    "\n",
    "就可以按下 `w`, `a`, `s`, `d` 與空白鍵送出指令  \n",
    "同時應該可以在 Step1 跑起來的 server 去檢查邏輯正確與否\n",
    "\n",
    "但是遇到問題，就要開始檢查是不是 Step1 實作上有錯，或是 Step2 操作上有錯誤"
   ]
  },
  {
   "cell_type": "markdown",
   "metadata": {
    "slideshow": {
     "slide_type": "slide"
    }
   },
   "source": [
    "## Step3: 將 Step1 程式碼放上小鴨車\n",
    "\n",
    "### 目標\n",
    "\n",
    "Step1 程式碼可以根據得到的資料完成控制小鴨車馬達\n",
    "\n",
    "### 怎麼做\n",
    "\n",
    "連上小鴨車，拉取程式碼\n",
    "\n",
    "```bash\n",
    "$ git clone -b Lab7 https://github.com/GrassLab/NCTU_CS_ZOO.git Lab7\n",
    "```\n",
    "\n",
    "將 Step1 的程式碼放到 `Lab7/duckiebot_cs_zoo`\n",
    "\n",
    "先執行 Step1 的程式碼在小鴨車上，並在自己電腦執行 Step2  \n",
    "確認可以互相交換資料\n",
    "\n",
    "接下來在程式碼內引用 `car_control`，並使用該函式庫控制馬達\n",
    "\n",
    "```python\n",
    "from libs.car_control import CarControl\n",
    "\n",
    "duckie_car = CarControl(0.0)\n",
    "\n",
    "# control motor to met velocity and omega\n",
    "duckie_car.move(velocity=0.5, omega=4.0)\n",
    "```\n",
    "\n",
    "速度範圍約為 `-0.8 ~ 0.8`，角速度範圍約為 `-10 ~ 10`\n",
    "\n",
    "### 注意事項\n",
    "\n",
    "- 在小鴨車上放置 server 程式碼，記得要在 `duckiebot_cs_zoo` 目錄下，避免引用錯誤 `ImportError`"
   ]
  },
  {
   "cell_type": "markdown",
   "metadata": {
    "slideshow": {
     "slide_type": "slide"
    }
   },
   "source": [
    "## Step4: 先在自己電腦，開發 `UDP` server 程式碼\n",
    "\n",
    "### 目標\n",
    "\n",
    "可以將 `UDP` server 跑起來\n",
    "\n",
    "### 怎麼做\n",
    "\n",
    "大致上與 Step1 很相似，不一樣的地方在於程式碼邏輯\n",
    "\n",
    "程式碼邏輯為:\n",
    "\n",
    "1. 開啟 `socket`\n",
    "2. 使用 `bind` 選擇 `host` 與 `port`\n",
    "3. 使用 `recvfrom` 取得 client 傳送的資料\n",
    "4. 先假裝有控制小鴨車，但其實沒有\n",
    "5. 回到第 3 步\n",
    "\n",
    "### 注意事項\n",
    "\n",
    "- 其中使用 `bind` 的時候\n",
    "  - 將 `host` 改用 `0.0.0.0`，如使用 `localhost` 只能接受同主機的資料\n",
    "  - 以及將 `port` 改成符合題目描述\n",
    "- 是使用 `recvfrom` 與 `TCP` 使用的 `recv` 不同"
   ]
  },
  {
   "cell_type": "markdown",
   "metadata": {
    "slideshow": {
     "slide_type": "slide"
    }
   },
   "source": [
    "## Step5: 使用助教提供的 `remote_joystick.py` 測試 Step4 結果\n",
    "\n",
    "### 目標\n",
    "\n",
    "Step4 的 `UDP` server 可以收到 `remote_joystick.py` 傳出去的資料\n",
    "\n",
    "### 怎麼做\n",
    "\n",
    "參考 Step2 去做\n",
    "\n",
    "差別在於這次要同時把 `TCP` 與 `UDP` server 都跑起來"
   ]
  },
  {
   "cell_type": "markdown",
   "metadata": {
    "slideshow": {
     "slide_type": "slide"
    }
   },
   "source": [
    "## Step6: 將 Step4 程式碼放上小鴨車\n",
    "\n",
    "### 目標\n",
    "\n",
    "Step4 程式碼可以根據得到的資料完成控制小鴨車車燈\n",
    "\n",
    "### 怎麼做\n",
    "\n",
    "應該已經在 Step3 拉取過程式碼\n",
    "\n",
    "將 Step4 的程式碼放到 `Lab7/duckiebot_cs_zoo`\n",
    "\n",
    "先執行 Step1 與 Step4 的程式碼在小鴨車上，並在自己電腦執行 Step2  \n",
    "確認可以互相交換資料\n",
    "\n",
    "接下來在程式碼內引用 `light_control`，並使用該函式庫控制車燈\n",
    "\n",
    "```python\n",
    "from libs.light_control import LightControl\n",
    "\n",
    "duckie_light = LightControl()\n",
    "\n",
    "# change front left rgb color to RED\n",
    "duckie_light.change_rgb(light_pos=\"FRONT_LEFT\", red=1, green=0, blue=0)\n",
    "\n",
    "# change front left rgb color to RED\n",
    "duckie_light.change_rgb(light_pos=duckie_light.LightPos.FRONT_LEFT, red=1, green=0, blue=0)\n",
    "\n",
    "# change front left rgb color to RED\n",
    "duckie_light.change_rgb(light_pos=0, red=1, green=0, blue=0)\n",
    "```\n",
    "\n",
    "`light_pos` 選擇要控制的車燈位置，定義位於 https://github.com/GrassLab/NCTU_CS_ZOO/blob/Lab7/duckiebot_cs_zoo/libs/light_control.py#L26  \n",
    "`red`, `green`, `blue` 顏色範圍皆為 `0.0 ~ 1.0`  \n",
    "\n",
    "### 注意事項\n",
    "\n",
    "- 在小鴨車上放置 server 程式碼，記得要在 `duckiebot_cs_zoo` 目錄下，避免引用錯誤 `ImportError`"
   ]
  },
  {
   "cell_type": "markdown",
   "metadata": {
    "slideshow": {
     "slide_type": "slide"
    }
   },
   "source": [
    "# 有問題歡迎到討論區發問"
   ]
  }
 ],
 "metadata": {
  "celltoolbar": "Slideshow",
  "kernelspec": {
   "display_name": "Python 3",
   "language": "python",
   "name": "python3"
  },
  "language_info": {
   "codemirror_mode": {
    "name": "ipython",
    "version": 3
   },
   "file_extension": ".py",
   "mimetype": "text/x-python",
   "name": "python",
   "nbconvert_exporter": "python",
   "pygments_lexer": "ipython3",
   "version": "3.7.6"
  },
  "rise": {
   "enable_chalkboard": true,
   "scroll": true,
   "theme": "night"
  }
 },
 "nbformat": 4,
 "nbformat_minor": 4
}
