{
 "cells": [
  {
   "cell_type": "markdown",
   "metadata": {
    "slideshow": {
     "slide_type": "slide"
    }
   },
   "source": [
    "# HW 7: 自駕車間的溝通 (網路工程)\n",
    "\n",
    "2020.11.13"
   ]
  },
  {
   "cell_type": "markdown",
   "metadata": {
    "slideshow": {
     "slide_type": "slide"
    }
   },
   "source": [
    "## Tutorial\n",
    "\n",
    "- [TA video placehold]()\n",
    "- [The Internet (11:58)](https://www.youtube.com/watch?v=AEaKrq3SpW8)\n",
    "- [UDP and TCP: Comparison of Transport Protocols (11:34)](https://www.youtube.com/watch?v=Vdc8TCESIg8)"
   ]
  },
  {
   "cell_type": "markdown",
   "metadata": {
    "slideshow": {
     "slide_type": "slide"
    }
   },
   "source": [
    "## Objective\n",
    "\n",
    "- Learn socket programming to exchange data between different computer\n",
    "- Understand how computer communicate through network\n",
    "- Understand difference between two common OSI 4 protocol `TCP` and `UDP`"
   ]
  },
  {
   "source": [
    "## Problem\n",
    "\n",
    "在前面的 Lab 中，我們都是透過 `SSH` 登入進小鴨車  \n",
    "使用終端機指令或 `python` 程式來控制小鴨車馬達、車燈、相機等  \n",
    "\n",
    "如果想要提供其他使用者，例如：同學、朋友等 也來控制小鴨車  \n",
    "就必須提供他們 `SSH` 登入的能力，但是這樣一方面給予權限過多，另一方面使用的門檻也較高\n",
    "\n",
    "因此問題是否能夠給予其他使用者一個簡單的客戶端 (`client`)  \n",
    "透過網路給予受限的功能，諸如小鴨車前進、後退等，但無法刪除整個作業系統 `rm -rf /`\n",
    "讓他們也能體驗奔馳小鴨車的樂趣"
   ],
   "cell_type": "markdown",
   "metadata": {
    "slideshow": {
     "slide_type": "slide"
    }
   }
  },
  {
   "cell_type": "markdown",
   "metadata": {
    "slideshow": {
     "slide_type": "slide"
    }
   },
   "source": [
    "## Requirement\n",
    "\n",
    "利用 `socket` 使用 `TCP` 與 `UDP` 協定提供其他聯網裝置與小鴨車溝通，以控制小鴨車馬達與車燈\n",
    "\n",
    "> `socket` 使用方法可以參考 [`Reference`](#Reference)"
   ]
  },
  {
   "cell_type": "markdown",
   "metadata": {
    "slideshow": {
     "slide_type": "subslide"
    }
   },
   "source": [
    "- 在小鴨車上，使用 `TCP` 監聽 `54760` 的埠號 (port)，一直接受一個 byte 的資料去控制小鴨車馬達的行為\n",
    "  - 只需要處理同時有一個 client 的情況，不用處理同時有多個 client 使用\n",
    "    - 換句話說，不用使用到 多執行緒 `mutlithreading` 或 多進程 `mutliprocess`\n",
    "  - 要能夠更換 client，有可能出現聯網裝置 A 連上小鴨車控制後斷開，換聯網裝置 B 連上小鴨車控制\n",
    "  - 當處理完資料後，要回應一個 `b'\\x21'` 告知聯網裝置已收到資料 \n",
    "  - byte 資料對應的行為如下：\n",
    "\n",
    "| one byte data | action |\n",
    "| --- | --- |\n",
    "| `b'\\x20'` | stop |\n",
    "| `b'\\x77'` | move forward |\n",
    "| `b'\\x73'` | move backward |\n",
    "| `b'\\x61'` | turn left |\n",
    "| `b'\\x64'` | turn right |"
   ]
  },
  {
   "cell_type": "markdown",
   "metadata": {
    "slideshow": {
     "slide_type": "subslide"
    }
   },
   "source": [
    "- 在小鴨車上，使用 `UDP` 綁定 `54760` 的埠號 (port)，一次接受五個 byte 的資料去控制小鴨車車燈的行為\n",
    "  - 五個 byte 個別對應到 前左燈、前中燈、前右燈、後左燈、後右燈\n",
    "  - 可能的範例如下\n",
    "    - `b'\\x64\\x64\\x64\\x64\\x64'`: 全部燈皆為暗掉，因此都沒有點亮\n",
    "    - `b'\\x72\\x72\\x72\\x62\\x62'`: 車前三個燈為紅色，車後兩個燈為藍色\n",
    "  - 五個 byte 中每個單一的 byte 資料對應的行為如下：\n",
    "\n",
    "|one byte data|action|\n",
    "| --- | --- |\n",
    "| `b'\\x77'` | white |\n",
    "| `b'\\x64'` | dark |\n",
    "| `b'\\x72'` | red |\n",
    "| `b'\\x67'` | green |\n",
    "| `b'\\x62'` | blue |"
   ]
  },
  {
   "cell_type": "markdown",
   "metadata": {
    "slideshow": {
     "slide_type": "subslide"
    }
   },
   "source": [
    "- 完成前述兩項要求後，應可以使用助教提供的程式碼連接上小鴨車並控制  \n",
    " \n",
    "從 `Github` 取得程式碼，這邊有幾個選項可用，選擇適合自己的方式\n",
    "\n",
    "1. 使用 `git` 克隆程式碼，適合電腦上有安裝 `git` 指令\n",
    "\n",
    "```bash\n",
    "$ git clone -b Lab7 https://github.com/GrassLab/NCTU_CS_ZOO.git Lab7\n",
    "```\n",
    "\n",
    "2. 透過 `Github` 提供的程式碼下載功能，先選擇到 `Lab7` 的分支，之後點擊 `Download ZIP`\n",
    "\n",
    "![download zip](https://imgur.com/MmgVSnH.png)\n",
    "\n",
    "取得程式碼後，使用方法如下\n",
    "\n",
    "```bash\n",
    "$ cd Lab7/duckiebot_cs_zoo\n",
    "$ python -m app.remote_joystick duckie-xxx.local 54760\n",
    "connect to duckie-xxx.local:54760\n",
    "pressed w, a, s, d and space as joystick when focus on Window\n",
    "```"
   ]
  },
  {
   "cell_type": "markdown",
   "metadata": {
    "slideshow": {
     "slide_type": "slide"
    }
   },
   "source": [
    "## Notice\n",
    "\n",
    "- 由於需要與小鴨車溝通，如遇到網路無法連上請在討論區描述問題或私信助教\n",
    "- 如遭遇網路問題無法實際在小鴨車上操作，可以先在自己電腦熟悉 `TCP` 與 `UDP` 的使用\n",
    "- 注意在監聽與綁定時，host 參數的使用，例如: `localhost` 與 `0.0.0.0` 的差別\n",
    "- deadline: 2020.11.20 before class"
   ]
  },
  {
   "cell_type": "markdown",
   "metadata": {
    "slideshow": {
     "slide_type": "slide"
    }
   },
   "source": [
    "## Reference\n",
    "\n",
    "- [Python3.6 官方 socket 參考文件](https://docs.python.org/3.6/library/socket.html)\n",
    "  - 助教也都用這個，好文件，不用嗎？\n",
    "- [OSI Model Explained 影片解釋 OSI 7](https://www.youtube.com/watch?v=vv4y_uOneC0)\n",
    "\n",
    "### 如何建立兩個使用 `TCP` 互相連接的 `socket`\n",
    "\n",
    "> 底下程式碼是可以直接複製並且執行的"
   ]
  },
  {
   "cell_type": "code",
   "execution_count": 1,
   "metadata": {
    "slideshow": {
     "slide_type": "subslide"
    }
   },
   "outputs": [],
   "source": [
    "import socket\n",
    "\n",
    "## create two socket using TCP/IPv4 ##\n",
    "\n",
    "a = socket.socket(\n",
    "    family=socket.AF_INET, # mean useing IPv4\n",
    "    type=socket.SOCK_STREAM, # mean using TCP\n",
    ")\n",
    "b = socket.socket(\n",
    "    family=socket.AF_INET, # mean useing IPv4\n",
    "    type=socket.SOCK_STREAM, # mean using TCP\n",
    ")\n",
    "\n",
    "## first socket `a` as server ##\n",
    "\n",
    "# select using which host and port\n",
    "a.bind(('localhost', 0))\n",
    "# prepare for handling TCP 3-way handshake\n",
    "a.listen()\n",
    "# get (host, port)\n",
    "server_addr: tuple = a.getsockname()\n",
    "\n",
    "## second socket `b` as client ##\n",
    "\n",
    "# connect to first socket `a`\n",
    "b.connect(server_addr)\n",
    "\n",
    "assert b.getpeername() == a.getsockname()\n",
    "\n",
    "## get connected socket with `b` ##\n",
    "c, c_addr = a.accept()\n",
    "\n",
    "assert c_addr == b.getsockname()\n",
    "assert c.getsockname() == a.getsockname()\n",
    "assert c.getpeername() == b.getsockname()\n",
    "\n",
    "## try to communicate ##\n",
    "\n",
    "assert b.send(b'\\x00') == 1 # to socket `c`\n",
    "assert c.send(b'\\x11') == 1 # to socket `b`\n",
    "assert b.recv(1) == b'\\x11' # from socket `c`\n",
    "assert c.recv(1) == b'\\x00' # from socket `b`\n",
    "\n",
    "## when disconnect ##\n",
    "\n",
    "# disconnect\n",
    "b.close()\n",
    "assert c.recv(1) == b'' # because socket `b` is closed\n",
    "\n",
    "# good habit to close unused socket\n",
    "a.close()\n",
    "c.close()"
   ]
  },
  {
   "cell_type": "markdown",
   "metadata": {
    "slideshow": {
     "slide_type": "subslide"
    }
   },
   "source": [
    "### 如何建立兩個使用 `UDP` 交換資料的 `socket`\n",
    "\n",
    "> 底下程式碼是可以直接複製並且執行的"
   ]
  },
  {
   "cell_type": "code",
   "execution_count": 2,
   "metadata": {
    "slideshow": {
     "slide_type": "subslide"
    }
   },
   "outputs": [],
   "source": [
    "import socket\n",
    "\n",
    "## create two socket using UDP/IPv4 ##\n",
    "\n",
    "a = socket.socket(\n",
    "    family=socket.AF_INET, # mean useing IPv4\n",
    "    type=socket.SOCK_DGRAM, # mean using UDP\n",
    ")\n",
    "b = socket.socket(\n",
    "    family=socket.AF_INET, # mean useing IPv4\n",
    "    type=socket.SOCK_DGRAM, # mean using UDP\n",
    ")\n",
    "\n",
    "# select using which host and port\n",
    "a.bind(('localhost', 0))\n",
    "b.bind(('localhost', 0))\n",
    "\n",
    "## try to communicate ##\n",
    "\n",
    "assert a.sendto(b'\\x00', b.getsockname()) == 1 # to socket `b`\n",
    "assert b.sendto(b'\\x11', a.getsockname()) == 1 # to socket `a`\n",
    "assert a.recvfrom(1) == (b'\\x11', b.getsockname()) # from socket `b`\n",
    "assert b.recvfrom(1) == (b'\\x00', a.getsockname()) # from socket `a`\n",
    "\n",
    "# send to self\n",
    "assert a.sendto(b'\\x66', a.getsockname()) == 1\n",
    "assert a.recvfrom(1) == (b'\\x66', a.getsockname())"
   ]
  },
  {
   "cell_type": "markdown",
   "metadata": {
    "slideshow": {
     "slide_type": "subslide"
    }
   },
   "source": [
    "### 如何真的跨越網路到另一端\n",
    "\n",
    "上面的範例都只有在同一台聯網裝置執行，但作業的 `Requirement` 是要在小鴨車與另一台聯網裝置間  \n",
    "可以參考 [官方範例](https://docs.python.org/3.6/library/socket.html#example)，看第一個即可\n",
    "\n",
    "要注意 `host` 在 `'localhost'` 與 `'0.0.0.0'` (或範例中 `''`) 兩者間區別與使用"
   ]
  }
 ],
 "metadata": {
  "celltoolbar": "Slideshow",
  "kernelspec": {
   "name": "Python 3.8.5 64-bit",
   "display_name": "Python 3.8.5 64-bit",
   "metadata": {
    "interpreter": {
     "hash": "aee8b7b246df8f9039afb4144a1f6fd8d2ca17a180786b69acc140d282b71a49"
    }
   }
  },
  "language_info": {
   "codemirror_mode": {
    "name": "ipython",
    "version": 3
   },
   "file_extension": ".py",
   "mimetype": "text/x-python",
   "name": "python",
   "nbconvert_exporter": "python",
   "pygments_lexer": "ipython3",
   "version": "3.8.5-final"
  },
  "rise": {
   "enable_chalkboard": true,
   "scroll": true,
   "theme": "night"
  }
 },
 "nbformat": 4,
 "nbformat_minor": 4
}