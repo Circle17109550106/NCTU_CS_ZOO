{
 "cells": [
  {
   "cell_type": "markdown",
   "metadata": {},
   "source": [
    "# Challenge 5: 小鴨車相機校正\n",
    "2020.11.06"
   ]
  },
  {
   "cell_type": "markdown",
   "metadata": {},
   "source": [
    "## Requirement\n",
    "\n",
    "- 完成相機的兩階段校正\n",
    "    - intrinsic calibation\n",
    "    - extrinsic calibration"
   ]
  },
  {
   "cell_type": "markdown",
   "metadata": {},
   "source": [
    "### 為何要做相機校正\n",
    "\n",
    "- intrinsic calibration\n",
    "    - 為了求得相機的 intrinsic paramters 及 distortion coefficients\n",
    "    - intrinsic parameters\n",
    "        - 相機焦距在成像平面 x, y 軸方向的距離\n",
    "        - 相機焦距與成像平面的 z 軸相交點的位置\n",
    "        - 成像平面上 x, y 軸的夾角\n",
    "    - distortion coefficients\n",
    "        - 與相機鏡頭的透鏡有關，希望校正光線經過透鏡時的所產生的彎曲\n",
    "- extrinsic calibration\n",
    "    - 將相機看到的 pixel 座標系，轉換為相對於小鴨車的 x y 平面距離"
   ]
  },
  {
   "cell_type": "markdown",
   "metadata": {},
   "source": [
    "### Step 1\n",
    "\n",
    "- 透過 MobaXterm or Royal 連進小鴨車\n",
    "- 從 github clone project\n",
    "    - 執行以下 command line\n",
    "    ```\n",
    "    cd\n",
    "    git clone -b Challenge5 https://github.com/GrassLab/NCTU_CS_ZOO Challenge5\n",
    "    ```\n",
    "- 安裝相關套件\n",
    "    - 執行以下 command line\n",
    "    ```\n",
    "    cd ~/Challenge5\n",
    "    sudo apt install -y $(cat others/apt-packages.txt)\n",
    "    pip3 install -r duckiebot_cs_zoo/requirements.txt\n",
    "    ```\n"
   ]
  },
  {
   "cell_type": "markdown",
   "metadata": {},
   "source": [
    "### Step2\n",
    "\n",
    "- 收集校正用的照片\n",
    "    - 執行以下 command line\n",
    "        ```\n",
    "        cd ~/Challenge5/duckiebot_cs_zoo\n",
    "        python -m app.collect_calibration_image\n",
    "        ```\n",
    "    - 如果運行正常，程式碼首先會詢問你是否刪除歷史資料，首次執行 `y` or `n` 皆可\n",
    "        - 若是第二次收集照片，可以選擇刪除先前的照片重新來 `y`，或者保留並新增照片 `n`）\n",
    "    - 接著會跳出一個影像視窗\n",
    "        - 若未跳出，請找助教幫忙\n",
    "    - 將校正紙放在地上 or 貼在牆壁上（保持紙張的平整）\n",
    "    - 一個人拿著小鴨車對準校正棋盤格，另一個人則看著影像視窗，若成功偵測到棋盤格，按下 `1` 做儲存\n",
    "        - ![](https://i.imgur.com/xUHDtqN.png)\n",
    "    - 調整小鴨車的姿勢，想辦法讓棋盤格在影像中出現各種大小，並出現在各個角落\n",
    "        - 至少要有 20 張以上，才能進行下一步的校正\n",
    "    - 按 `q` 結束照片的收集，收集完的照片位置會在 `~/Challenge5/duckiebot_cs_zoo/app/data/camera_calibration/image/` 下"
   ]
  },
  {
   "cell_type": "markdown",
   "metadata": {},
   "source": [
    "### Step3\n",
    "\n",
    "- 進行 camera calibration\n",
    "    - 執行以下 command line\n",
    "        ```\n",
    "        cd ~/Challenge5/duckiebot_cs_zoo\n",
    "        python -m app.camera_calibration\n",
    "        ```\n",
    "    - command line 會顯示目前有的照片張數，並開始進行第一階段 intrinsic parameters 與 distortion coefficients 的計算\n",
    "    - 若失敗，回到 `Step2` 繼續收集照片\n",
    "        - 可以選擇重新收集，或者是新增新的校正照片\n",
    "    - 成功後，將會跳出校正前與校正後的結果\n",
    "    - 校正結果將被儲存在 `~/Challenge5/duckiebot_cs_zoo/app/data/camera_calibration/intrinsics.pkl`，請將檔案下載回筆電\n",
    "        - 若不知道如何下載，請找助教\n"
   ]
  },
  {
   "cell_type": "markdown",
   "metadata": {},
   "source": [
    "### Step4\n",
    "\n",
    "- 完成 `Step3` 後，進行 extrinsic calibration\n",
    "    - 將校正紙放平在桌上\n",
    "    - 小鴨車的兩顆輪子對準校正紙，如下圖\n",
    "        - ![](https://i.imgur.com/QS0EAwk.jpg)\n",
    "    - 執行以下 command line\n",
    "        ```\n",
    "        cd ~/Challenge5/duckiebot_cs_zoo\n",
    "        python -m app.extrinsic_calibration\n",
    "        ```\n",
    "    - 當 visual window 找到棋盤格（如下圖），並確定小鴨車的輪子有對準，按下 `空白鍵` 進行校正（很快很快）\n",
    "        - ![](https://i.imgur.com/k5U7UYK.png)\n",
    "    - 校正結果將被儲存在 `~/Challenge5/duckiebot_cs_zoo/app/data/camera_calibration/extrinsics.pkl`，請將檔案下載回筆電\n",
    "        - 若不知道如何下載，請找助教"
   ]
  },
  {
   "cell_type": "markdown",
   "metadata": {},
   "source": [
    "### Step5\n",
    "\n",
    "- 驗證校正結果\n",
    "    - 執行以下 command line\n",
    "        ```\n",
    "        cd ~/Challenge5/duckiebot_cs_zoo\n",
    "        python -m app.verify_calibration\n",
    "        ```\n",
    "    - 畫面中會出現校正尺標\n",
    "        - ![](https://i.imgur.com/aujAFYm.png)\n",
    "        - 量測小鴨車車輪中心與尺標間的距離，應為尺標所標示的公分數\n",
    "- 將 `Step3` 下載的 `intrinsics.pkl` 與 `Step4` 下載的 `extrinsics.pkl` 上傳至 E3 的 Challenge5 作業繳交區"
   ]
  },
  {
   "cell_type": "markdown",
   "metadata": {},
   "source": [
    "### 期中考完放假去拉～～～～～～\n",
    "\n",
    "##### 記得完成 lab6"
   ]
  },
  {
   "cell_type": "markdown",
   "metadata": {},
   "source": [
    "## Notice\n",
    "\n",
    "- Reward\n",
    "    - demo before 8:30 pm: 金牌\n",
    "    - demo before 9:30 pm: 銀牌\n",
    "    - demo next week at 6:00 ~ 6:30 pm: 銅牌"
   ]
  },
  {
   "cell_type": "code",
   "execution_count": null,
   "metadata": {},
   "outputs": [],
   "source": []
  }
 ],
 "metadata": {
  "kernelspec": {
   "display_name": "Python 3",
   "language": "python",
   "name": "python3"
  },
  "language_info": {
   "codemirror_mode": {
    "name": "ipython",
    "version": 3
   },
   "file_extension": ".py",
   "mimetype": "text/x-python",
   "name": "python",
   "nbconvert_exporter": "python",
   "pygments_lexer": "ipython3",
   "version": "3.8.3"
  }
 },
 "nbformat": 4,
 "nbformat_minor": 4
}
