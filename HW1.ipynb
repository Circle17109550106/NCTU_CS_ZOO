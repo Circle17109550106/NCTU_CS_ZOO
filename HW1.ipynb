{
 "cells": [
  {
   "cell_type": "markdown",
   "metadata": {},
   "source": [
    "# HW 1: 自駕車的大腦運作 (計算機概論與程式設計)\n",
    "\n",
    "2020.09.18\n",
    "\n",
    "## Tutorial\n",
    "- [學習Python - 初學者全教程](https://www.youtube.com/watch?v=rfscVS0vtbw&t=86s)\n",
    "\n",
    "## Objective\n",
    "\n",
    "- python environment setup\n",
    "- python practice: input, output...\n"
   ]
  },
  {
   "cell_type": "markdown",
   "metadata": {},
   "source": [
    "## Environment\n",
    "- `python 3.6` or later\n",
    "    - whole course is based on `python 3.6`\n",
    "![](https://w3techs.com/diagram/history_details/pl-python/3/m)\n",
    "> ref: https://w3techs.com/technologies/history_details/pl-python/3"
   ]
  },
  {
   "cell_type": "markdown",
   "metadata": {},
   "source": [
    "## Requirement\n",
    "\n",
    "- 輸入自己名字，顯示 `Hello {NAME}!`\n",
    "\n",
    "```\n",
    "Example\n",
    "$ Please enter your name: Duckie\n",
    "$ Hello Duckie!\n",
    "```"
   ]
  },
  {
   "cell_type": "markdown",
   "metadata": {},
   "source": [
    "## Notice\n",
    "\n",
    "- 可用任何環境 demo \n",
    "    - [Terminal](https://medium.com/@ChunYeung/給自學者的python教學-1-如何安裝python-126f8ce2f967)\n",
    "    - [Jupyter Notebook](https://jupyter.org/install)\n",
    "    - [Spyder](https://www.spyder-ide.org)\n",
    "    - [Pycharm](https://www.jetbrains.com/pycharm/download/#section=windows)\n",
    "    - ...\n",
    "- deadline: 2020.09.25 before class"
   ]
  },
  {
   "cell_type": "markdown",
   "metadata": {},
   "source": [
    "## Reference\n",
    "\n",
    "- [w3school Python Tutorial](https://www.w3schools.com/python/default.asp)\n",
    "- [CS231N Python/Numpy Tutorial](https://cs231n.github.io/python-numpy-tutorial/#functions)\n",
    "- [莫煩 Python 基礎](https://mofanpy.com/tutorials/python-basic/basic/)"
   ]
  },
  {
   "cell_type": "markdown",
   "metadata": {},
   "source": [
    "![image](https://raw.githubusercontent.com/yu2guang/NCTU-CS/master/pdf/Duckie/others/life.jpg)"
   ]
  }
 ],
 "metadata": {
  "kernelspec": {
   "display_name": "Python 3",
   "language": "python",
   "name": "python3"
  },
  "language_info": {
   "codemirror_mode": {
    "name": "ipython",
    "version": 3
   },
   "file_extension": ".py",
   "mimetype": "text/x-python",
   "name": "python",
   "nbconvert_exporter": "python",
   "pygments_lexer": "ipython3",
   "version": "3.7.6"
  }
 },
 "nbformat": 4,
 "nbformat_minor": 4
}
