{
 "cells": [
  {
   "cell_type": "markdown",
   "metadata": {},
   "source": [
    "# HW 3: 虛擬自駕車——車子自己走出迷宮 (離散數學 / 演算法概論)\n",
    "\n",
    "2020.10.14\n",
    "\n",
    "## Tutorial\n",
    "\n",
    "- Overview of Algorithms\n",
    "    - https://www.youtube.com/watch?v=rL8X2mlNHPM\n",
    "\n",
    "- Overview of Discrete Mathematics\n",
    "    - https://www.youtube.com/watch?v=rdXw7Ps9vxc\n",
    "\n",
    "- Overview of Graph Theory\n",
    "    - https://www.youtube.com/watch?v=DgXR2OWQnLc\n",
    "\n",
    "- Graph Search\n",
    "    - https://www.youtube.com/watch?v=TIbUeeksXcI\n",
    "\n",
    "- Maze Path Search\n",
    "    - https://www.youtube.com/watch?v=W9F8fDQj7Ok\n",
    "\n",
    "- The A* Pathfinding Algorithm\n",
    "    - https://www.youtube.com/watch?v=eSOJ3ARN5FM\n",
    "\n",
    "\n",
    "## Objective\n",
    "\n",
    "- 學習走迷宮演算法\n",
    "- python practice\n"
   ]
  },
  {
   "cell_type": "markdown",
   "metadata": {},
   "source": [
    "## Requirement\n",
    "\n",
    "- 承 Challenge 2，讓車子自己找路走出一張迷宮\n",
    "    - Input: 一個 `.txt` 檔，檔案裡的資訊格式如 Challenge 2 (見 `maze_info2_1.txt` 和 `maze_info2_1.txt`)\n",
    "        - Line 1 (可走地圖範圍和地圖數量 1): `{map width} {map heigh} 1`\n",
    "        - Line 2 (地圖障礙物的位置): `{x1} {y1} & {x2} {y2} & {x3} {y3} & ...` \n",
    "            - 以小寫字母 `&` 做為每個障礙物座標間隔\n",
    "        ```\n",
    "        Example\n",
    "        5 6 1\n",
    "        3 0 & 1 1 & 3 1 & 1 2 & 1 3 & 1 4 & 2 4 & 3 4 & 3 5\n",
    "        ```\n",
    "    - Output: 將車子走出迷宮的過程呈現動態效果\n",
    "        - `*` 代表車子目前位置：設為 `(0, 0)`，而走到迷宮右下 `(map_w-1, map_h-1)` 即為終點 (程式亦終止)\n",
    "        - `0` 代表可走的路\n",
    "        - 用 `1` 來表示障礙物不能前進 \n",
    "        - 請在地圖四邊也圍上障礙物 `1`\n",
    "![image](https://raw.githubusercontent.com/yu2guang/NCTU-CS/master/pdf/Duckie/others/Lab3_map_1.gif)"
   ]
  },
  {
   "cell_type": "markdown",
   "metadata": {},
   "source": [
    "## Notice\n",
    "\n",
    "- 可用任何環境 demo\n",
    "- 關於 demo 測資 \n",
    "    - demo 時會更動測資，但 `.txt` 檔格式不變\n",
    "    - 不會出現多張地圖的測資\n",
    "- deadline: 2020.10.23 before class"
   ]
  }
 ],
 "metadata": {
  "kernelspec": {
   "display_name": "Python 3",
   "language": "python",
   "name": "python3"
  },
  "language_info": {
   "codemirror_mode": {
    "name": "ipython",
    "version": 3
   },
   "file_extension": ".py",
   "mimetype": "text/x-python",
   "name": "python",
   "nbconvert_exporter": "python",
   "pygments_lexer": "ipython3",
   "version": "3.7.6"
  }
 },
 "nbformat": 4,
 "nbformat_minor": 4
}
