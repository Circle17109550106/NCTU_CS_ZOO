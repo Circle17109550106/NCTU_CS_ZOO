{
 "cells": [
  {
   "cell_type": "markdown",
   "metadata": {},
   "source": [
    "# Challenge 3: 虛擬自駕車——車子自己走出迷宮 (離散數學 / 演算法概論)\n",
    "\n",
    "2020.10.23\n",
    "\n",
    "## Objective\n",
    "\n",
    "- 學習走迷宮演算法\n",
    "- python practice"
   ]
  },
  {
   "cell_type": "markdown",
   "metadata": {},
   "source": [
    "## Requirement\n",
    "\n",
    "- 承 HW3，讓車子自己找路走出三維迷宮，並需要偵測迷宮是否能走出去\n",
    "    - Input: 一個 `.txt` 檔，檔案裡的資訊格式如 HW3 (見 `maze3D_info2.txt`)\n",
    "        - Line 1 (可走地圖範圍和地圖數量): `{map width} {map heigh} {number of maps}`\n",
    "        - Line 2 (地圖 1 障礙物的位置): `{x1} {y1} & {x2} {y2} & {x3} {y3} & ...`\n",
    "        - Line 3 (地圖 2 障礙物的位置): `{x1} {y1} & {x2} {y2} & {x3} {y3} & ...`\n",
    "        - ...\n",
    "        - 有 n 張地圖就有 2*n+1 行資訊\n",
    "        ```\n",
    "        Example\n",
    "        6 5 3\n",
    "        1 1 & 2 1 & 3 1 & 4 1 & 1 2 & 1 3 & 2 3 & 3 3 & 4 3 & 1 4\n",
    "        1 1 & 2 1 & 3 1 & 4 1 & 4 2 & 1 3 & 2 3 & 3 3 & 4 3 & 5 3\n",
    "        4 0 & 0 1 & 1 1 & 4 1 & 0 3 & 1 3 & 4 3 & 4 4\n",
    "        ```\n",
    "    - Output: 將車子走出迷宮的過程呈現動態效果\n",
    "        - `*` 代表車子目前位置：設為 `(0, 0, 0)`，而走到最後一張迷宮右下 `(map_w-1, map_h-1, n-1)` 即為終點 (程式亦終止)\n",
    "        - `x` 代表可傳送到下一個地圖的傳送點，皆在地圖右下角 `(map_w-1, map_h-1, i)`；並在傳送點 `x` 上即可到下一張地圖 i+1 的左上角起點 `(0, 0, i+1)`\n",
    "        - `0` 代表可走的路\n",
    "        - 用 `1` 來表示障礙物不能前進 \n",
    "        - 請在地圖四邊也圍上障礙物 `1`\n",
    "        - 能走出迷宮印出 `Success!`，若否則印出 `There's no way out!`\n",
    "![image](https://raw.githubusercontent.com/yu2guang/NCTU-CS/master/pdf/Duckie/others/Lab3_3Dmaze.gif)"
   ]
  },
  {
   "cell_type": "markdown",
   "metadata": {},
   "source": [
    "## Notice\n",
    "\n",
    "- 可用任何環境 demo\n",
    "- 關於 demo 測資 \n",
    "    - demo 時會更動測資，但 `.txt` 檔格式不變\n",
    "- Reward\n",
    "    - demo before 8:30 pm: 金牌\n",
    "    - demo before 9:30 pm: 銀牌\n",
    "    - demo next week at 6:00 ~ 6:30 pm: 銅牌"
   ]
  }
 ],
 "metadata": {
  "kernelspec": {
   "display_name": "Python 3",
   "language": "python",
   "name": "python3"
  },
  "language_info": {
   "codemirror_mode": {
    "name": "ipython",
    "version": 3
   },
   "file_extension": ".py",
   "mimetype": "text/x-python",
   "name": "python",
   "nbconvert_exporter": "python",
   "pygments_lexer": "ipython3",
   "version": "3.7.6"
  }
 },
 "nbformat": 4,
 "nbformat_minor": 4
}
