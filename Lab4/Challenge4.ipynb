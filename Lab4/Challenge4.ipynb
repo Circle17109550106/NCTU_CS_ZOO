{
 "cells": [
  {
   "cell_type": "markdown",
   "metadata": {},
   "source": [
    "# Challenge 4: 從虛擬世界走向真實世界——自駕車燈號與車輪控制 (數位電路設計)\n",
    "2020.10.30"
   ]
  },
  {
   "cell_type": "markdown",
   "metadata": {},
   "source": [
    "## Requirement\n",
    "\n",
    "- 承接 HW 4 的 2 to 4 decoder，原始的 4 個輸出作為小鴨車「前進」「停止」「左轉」「右轉」的訊號\n",
    "- 新增三個輸出，作為小鴨車「車燈」的訊號\n",
    "- 限制：僅能使用以下電子元件「最多各一顆」\n",
    "    - SN74LS08N (AND GATE)\n",
    "    - SN74LS04N (NOT GATE)\n",
    "    - SN74LS00N (NAND GATE)\n"
   ]
  },
  {
   "cell_type": "markdown",
   "metadata": {},
   "source": [
    "### 對應真值表\n",
    "\n",
    "| In1 | In2 | Out1 | Out2 | Out3 | Out4 | Out5 | Out6 | Out7 | 行為 |\n",
    "| :-- | :-- | :--- | :--- | :--- | :--- | :--- | :--- | :--- | :--- |\n",
    "| F | F | F | F | F | T | T | T | F | 停止 |\n",
    "| F | T | F | F | T | F | F | T | T | 右轉 |\n",
    "| T | F | F | T | F | F | T | F | T | 左轉 |\n",
    "| T | T | T | F | F | F | F | F | F | 前進 |\n",
    "\n",
    "- Out1 ~ Out4 做為小鴨車「行駛」的控制訊號\n",
    "- Out5 ~ Out7 做為小鴨車「車燈」的控制訊號"
   ]
  },
  {
   "cell_type": "markdown",
   "metadata": {},
   "source": [
    "## Result\n",
    "\n",
    "![image](https://media.giphy.com/media/yRvZaszY0cvdFkgW8W/giphy.gif)"
   ]
  },
  {
   "cell_type": "markdown",
   "metadata": {},
   "source": [
    "## Hint\n",
    "\n",
    "- Out1 ~ Out4 與 HW4 完全一樣\n",
    "- 先不要考慮邏輯閘限制的問題\n",
    "    - 思考 Out5 可以從 one of [In1, In2, Out1, Out2, Out3, Out4] 透過 one of [NOT, NOR, NAND, XOR] gate 得到\n",
    "    - 思考 Out6 可以從 one of [In1, In2, Out1, Out2, Out3, Out4] 透過 one of [NOT, NOR, NAND, XOR] gate 得到\n",
    "    - 思考 Out7 可以從 two in [In1, In2, Out1, Out2, Out3, Out4, Out5, Out6] 透過 one of [NOT, NOR, NAND, XOR] gate 得到\n",
    "        - 有超過三種方式！\n",
    "- 前一項得出的三個邏輯閘中，哪一個不在 [AND, NOT, NAND] 中？\n",
    "    - NAND gate 可以用來模擬任何的邏輯閘！！！"
   ]
  },
  {
   "attachments": {},
   "cell_type": "markdown",
   "metadata": {},
   "source": [
    "| OR Gate | NOR Gate | XOR Gate |\n",
    "| :-----: | :------: | :------: |\n",
    "| ![](https://i.imgur.com/2rTXWot.png) | ![](https://i.imgur.com/r4xNC4g.png) | ![](https://i.imgur.com/rDaor8z.png) |\n",
    "| ![](https://i.imgur.com/rUgEkQ5.png) | ![](https://i.imgur.com/UKtcg8B.png) | ![](https://i.imgur.com/Dk204Ob.png) |"
   ]
  },
  {
   "cell_type": "markdown",
   "metadata": {},
   "source": [
    "## Notice\n",
    "\n",
    "- Reward\n",
    "    - demo before 8:30 pm: 金牌\n",
    "    - demo before 9:30 pm: 銀牌\n",
    "    - demo next week at 6:00 ~ 6:30 pm: 銅牌"
   ]
  },
  {
   "cell_type": "code",
   "execution_count": null,
   "metadata": {},
   "outputs": [],
   "source": []
  }
 ],
 "metadata": {
  "kernelspec": {
   "display_name": "Python 3",
   "language": "python",
   "name": "python3"
  },
  "language_info": {
   "codemirror_mode": {
    "name": "ipython",
    "version": 3
   },
   "file_extension": ".py",
   "mimetype": "text/x-python",
   "name": "python",
   "nbconvert_exporter": "python",
   "pygments_lexer": "ipython3",
   "version": "3.8.3"
  }
 },
 "nbformat": 4,
 "nbformat_minor": 4
}
