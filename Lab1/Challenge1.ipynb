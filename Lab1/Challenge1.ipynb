{
 "cells": [
  {
   "cell_type": "markdown",
   "metadata": {},
   "source": [
    "# Challenge 1: 自駕車的大腦運作 (計算機概論與程式設計)\n",
    "\n",
    "2020.09.25\n",
    "\n",
    "## Objective\n",
    "\n",
    "- python practice: input, output, loop, if-else, read file, ..."
   ]
  },
  {
   "cell_type": "markdown",
   "metadata": {},
   "source": [
    "## Requirement\n",
    "\n",
    "- 輸入地圖尺寸和車子座標，並在視窗圖示出來\n",
    "    - Input: 一個 `.txt` 檔，檔案裡的資訊格式如下 (見 `map_info.txt`)\n",
    "        - Line 1 (可走地圖範圍): `{map width} {map heigh}`\n",
    "        - Line 2 (車子目前位置): `{car x} {car y}`\n",
    "        ```\n",
    "        Example\n",
    "        5 5\n",
    "        2 1\n",
    "        ```\n",
    "    - Output: 對應大小的地圖和車子位置\n",
    "        - `*` 代表車子目前位置\n",
    "        - `0` 代表可走的路\n",
    "        - 請在地圖四邊圍上障礙物 `1`\n",
    "        ``` \n",
    "        1111111\n",
    "        1000001\n",
    "        100*001\n",
    "        1000001\n",
    "        1000001\n",
    "        1000001\n",
    "        1111111\n",
    "        ```"
   ]
  },
  {
   "cell_type": "markdown",
   "metadata": {},
   "source": [
    "## Notice\n",
    "\n",
    "- 可用任何環境 demo\n",
    "- 關於 demo 測資 \n",
    "    - demo 時會更動測資，但 `.txt` 檔格式不變\n",
    "    - 不會出現不合理測資 (e.g. 車子位置超出地圖範圍)\n",
    "- Reward\n",
    "    - demo before 8:30 pm: 金牌 \n",
    "        - ***WARNING: 每 30 分鐘區間只能 demo 一次***\n",
    "        - now ~ 7:30 pm\n",
    "        - 7:30 ~ 8:00 pm\n",
    "        - 8:00 ~ 8:30 pm\n",
    "    - demo before 9:30 pm: 銀牌\n",
    "    - demo next week at 6:00 ~ 6:30 pm: 銅牌"
   ]
  },
  {
   "cell_type": "markdown",
   "metadata": {},
   "source": [
    "## Reference\n",
    "\n",
    "- [w3school Python Tutorial](https://www.w3schools.com/python/default.asp)\n",
    "- [CS231N Python/Numpy Tutorial](https://cs231n.github.io/python-numpy-tutorial/#functions)\n",
    "- [莫煩 Python 基礎](https://mofanpy.com/tutorials/python-basic/basic/)\n",
    "- [學習Python - 初學者全教程](https://www.youtube.com/watch?v=rfscVS0vtbw&t=86s)"
   ]
  }
 ],
 "metadata": {
  "kernelspec": {
   "display_name": "Python 3",
   "language": "python",
   "name": "python3"
  },
  "language_info": {
   "codemirror_mode": {
    "name": "ipython",
    "version": 3
   },
   "file_extension": ".py",
   "mimetype": "text/x-python",
   "name": "python",
   "nbconvert_exporter": "python",
   "pygments_lexer": "ipython3",
   "version": "3.7.6"
  }
 },
 "nbformat": 4,
 "nbformat_minor": 4
}
